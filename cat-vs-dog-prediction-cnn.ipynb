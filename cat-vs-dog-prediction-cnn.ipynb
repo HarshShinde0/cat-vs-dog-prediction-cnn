{
 "cells": [
  {
   "cell_type": "code",
   "execution_count": 1,
   "id": "7aa8015f",
   "metadata": {
    "_cell_guid": "b1076dfc-b9ad-4769-8c92-a6c4dae69d19",
    "_uuid": "8f2839f25d086af736a60e9eeb907d3b93b6e0e5",
    "execution": {
     "iopub.execute_input": "2024-07-28T07:50:50.812612Z",
     "iopub.status.busy": "2024-07-28T07:50:50.812264Z",
     "iopub.status.idle": "2024-07-28T07:51:03.492936Z",
     "shell.execute_reply": "2024-07-28T07:51:03.491916Z"
    },
    "papermill": {
     "duration": 12.688391,
     "end_time": "2024-07-28T07:51:03.495304",
     "exception": false,
     "start_time": "2024-07-28T07:50:50.806913",
     "status": "completed"
    },
    "tags": []
   },
   "outputs": [
    {
     "name": "stderr",
     "output_type": "stream",
     "text": [
      "2024-07-28 07:50:52.599172: E external/local_xla/xla/stream_executor/cuda/cuda_dnn.cc:9261] Unable to register cuDNN factory: Attempting to register factory for plugin cuDNN when one has already been registered\n",
      "2024-07-28 07:50:52.599280: E external/local_xla/xla/stream_executor/cuda/cuda_fft.cc:607] Unable to register cuFFT factory: Attempting to register factory for plugin cuFFT when one has already been registered\n",
      "2024-07-28 07:50:52.733581: E external/local_xla/xla/stream_executor/cuda/cuda_blas.cc:1515] Unable to register cuBLAS factory: Attempting to register factory for plugin cuBLAS when one has already been registered\n"
     ]
    }
   ],
   "source": [
    "import tensorflow as tf\n",
    "from tensorflow.keras.models import Sequential\n",
    "from tensorflow.keras.layers import Conv2D, MaxPooling2D, Flatten, Dense\n",
    "from tensorflow.keras.preprocessing.image import ImageDataGenerator\n",
    "from tensorflow.keras.preprocessing import image\n",
    "import numpy as np\n",
    "import matplotlib.pyplot as plt\n",
    "import os\n",
    "import random"
   ]
  },
  {
   "cell_type": "code",
   "execution_count": 2,
   "id": "c851da61",
   "metadata": {
    "execution": {
     "iopub.execute_input": "2024-07-28T07:51:03.504520Z",
     "iopub.status.busy": "2024-07-28T07:51:03.503985Z",
     "iopub.status.idle": "2024-07-28T07:51:06.630320Z",
     "shell.execute_reply": "2024-07-28T07:51:06.629540Z"
    },
    "papermill": {
     "duration": 3.133069,
     "end_time": "2024-07-28T07:51:06.632412",
     "exception": false,
     "start_time": "2024-07-28T07:51:03.499343",
     "status": "completed"
    },
    "tags": []
   },
   "outputs": [
    {
     "name": "stdout",
     "output_type": "stream",
     "text": [
      "Found 8000 images belonging to 2 classes.\n",
      "Found 2000 images belonging to 2 classes.\n"
     ]
    }
   ],
   "source": [
    "train_datagen = ImageDataGenerator(rescale=1./255,\n",
    "                                   shear_range=0.2,\n",
    "                                   zoom_range=0.2,\n",
    "                                   horizontal_flip=True)\n",
    "training_set = train_datagen.flow_from_directory('/kaggle/input/cat-vs-dog-image-classification-making-prediction/dataset/training_set',\n",
    "                                                 target_size=(64, 64),\n",
    "                                                 batch_size=32,\n",
    "                                                 class_mode='binary')\n",
    "\n",
    "# Data preprocessing for testing\n",
    "test_datagen = ImageDataGenerator(rescale=1./255)\n",
    "test_set = test_datagen.flow_from_directory('/kaggle/input/cat-vs-dog-image-classification-making-prediction/dataset/test_set',\n",
    "                                            target_size=(64, 64),\n",
    "                                            batch_size=32,\n",
    "                                            class_mode='binary')"
   ]
  },
  {
   "cell_type": "code",
   "execution_count": 3,
   "id": "7e222290",
   "metadata": {
    "execution": {
     "iopub.execute_input": "2024-07-28T07:51:06.642091Z",
     "iopub.status.busy": "2024-07-28T07:51:06.641519Z",
     "iopub.status.idle": "2024-07-28T07:51:07.377921Z",
     "shell.execute_reply": "2024-07-28T07:51:07.376960Z"
    },
    "papermill": {
     "duration": 0.743675,
     "end_time": "2024-07-28T07:51:07.380238",
     "exception": false,
     "start_time": "2024-07-28T07:51:06.636563",
     "status": "completed"
    },
    "tags": []
   },
   "outputs": [
    {
     "name": "stderr",
     "output_type": "stream",
     "text": [
      "/opt/conda/lib/python3.10/site-packages/keras/src/layers/convolutional/base_conv.py:107: UserWarning: Do not pass an `input_shape`/`input_dim` argument to a layer. When using Sequential models, prefer using an `Input(shape)` object as the first layer in the model instead.\n",
      "  super().__init__(activity_regularizer=activity_regularizer, **kwargs)\n"
     ]
    }
   ],
   "source": [
    "cnn = Sequential([\n",
    "    Conv2D(filters=32, kernel_size=3, activation='relu', input_shape=(64, 64, 3)),\n",
    "    MaxPooling2D(pool_size=2, strides=2),\n",
    "    Conv2D(filters=32, kernel_size=3, activation='relu'),\n",
    "    MaxPooling2D(pool_size=2, strides=2),\n",
    "    Flatten(),\n",
    "    Dense(units=128, activation='relu'),\n",
    "    Dense(units=1, activation='sigmoid')\n",
    "])"
   ]
  },
  {
   "cell_type": "code",
   "execution_count": 4,
   "id": "501a112a",
   "metadata": {
    "execution": {
     "iopub.execute_input": "2024-07-28T07:51:07.389932Z",
     "iopub.status.busy": "2024-07-28T07:51:07.389601Z",
     "iopub.status.idle": "2024-07-28T07:51:07.402368Z",
     "shell.execute_reply": "2024-07-28T07:51:07.401694Z"
    },
    "papermill": {
     "duration": 0.019565,
     "end_time": "2024-07-28T07:51:07.404352",
     "exception": false,
     "start_time": "2024-07-28T07:51:07.384787",
     "status": "completed"
    },
    "tags": []
   },
   "outputs": [],
   "source": [
    "cnn.compile(optimizer='adam', loss='binary_crossentropy', metrics=['accuracy'])"
   ]
  },
  {
   "cell_type": "code",
   "execution_count": 5,
   "id": "99ee9db8",
   "metadata": {
    "execution": {
     "iopub.execute_input": "2024-07-28T07:51:07.413581Z",
     "iopub.status.busy": "2024-07-28T07:51:07.413310Z",
     "iopub.status.idle": "2024-07-28T07:51:07.417015Z",
     "shell.execute_reply": "2024-07-28T07:51:07.416205Z"
    },
    "papermill": {
     "duration": 0.010426,
     "end_time": "2024-07-28T07:51:07.418877",
     "exception": false,
     "start_time": "2024-07-28T07:51:07.408451",
     "status": "completed"
    },
    "tags": []
   },
   "outputs": [],
   "source": [
    "weights_path = '/kaggle/working/cnn_weights.weights.h5'"
   ]
  },
  {
   "cell_type": "code",
   "execution_count": 6,
   "id": "9f17c61f",
   "metadata": {
    "execution": {
     "iopub.execute_input": "2024-07-28T07:51:07.427947Z",
     "iopub.status.busy": "2024-07-28T07:51:07.427673Z",
     "iopub.status.idle": "2024-07-28T08:16:58.794960Z",
     "shell.execute_reply": "2024-07-28T08:16:58.793911Z"
    },
    "papermill": {
     "duration": 1551.374344,
     "end_time": "2024-07-28T08:16:58.797236",
     "exception": false,
     "start_time": "2024-07-28T07:51:07.422892",
     "status": "completed"
    },
    "tags": []
   },
   "outputs": [
    {
     "name": "stdout",
     "output_type": "stream",
     "text": [
      "Epoch 1/50\n"
     ]
    },
    {
     "name": "stderr",
     "output_type": "stream",
     "text": [
      "/opt/conda/lib/python3.10/site-packages/keras/src/trainers/data_adapters/py_dataset_adapter.py:121: UserWarning: Your `PyDataset` class should call `super().__init__(**kwargs)` in its constructor. `**kwargs` can include `workers`, `use_multiprocessing`, `max_queue_size`. Do not pass these arguments to `fit()`, as they will be ignored.\n",
      "  self._warn_if_super_not_called()\n",
      "2024-07-28 07:51:11.635273: E external/local_xla/xla/service/gpu/buffer_comparator.cc:1137] Difference at 0: 6.39927, expected 5.58886\n",
      "2024-07-28 07:51:11.635331: E external/local_xla/xla/service/gpu/buffer_comparator.cc:1137] Difference at 1: 5.92185, expected 5.11143\n",
      "2024-07-28 07:51:11.635345: E external/local_xla/xla/service/gpu/buffer_comparator.cc:1137] Difference at 2: 5.99669, expected 5.18628\n",
      "2024-07-28 07:51:11.635356: E external/local_xla/xla/service/gpu/buffer_comparator.cc:1137] Difference at 3: 6.48891, expected 5.6785\n",
      "2024-07-28 07:51:11.635369: E external/local_xla/xla/service/gpu/buffer_comparator.cc:1137] Difference at 5: 6.18882, expected 5.37841\n",
      "2024-07-28 07:51:11.635386: E external/local_xla/xla/service/gpu/buffer_comparator.cc:1137] Difference at 6: 6.76108, expected 5.95067\n",
      "2024-07-28 07:51:11.635398: E external/local_xla/xla/service/gpu/buffer_comparator.cc:1137] Difference at 7: 6.21291, expected 5.4025\n",
      "2024-07-28 07:51:11.635409: E external/local_xla/xla/service/gpu/buffer_comparator.cc:1137] Difference at 8: 5.66667, expected 4.85626\n",
      "2024-07-28 07:51:11.635420: E external/local_xla/xla/service/gpu/buffer_comparator.cc:1137] Difference at 9: 6.27296, expected 5.46255\n",
      "2024-07-28 07:51:11.635432: E external/local_xla/xla/service/gpu/buffer_comparator.cc:1137] Difference at 10: 6.19325, expected 5.38284\n",
      "2024-07-28 07:51:11.637195: E external/local_xla/xla/service/gpu/conv_algorithm_picker.cc:705] Results mismatch between different convolution algorithms. This is likely a bug/unexpected loss of precision in cudnn.\n",
      "(f32[32,32,62,62]{3,2,1,0}, u8[0]{0}) custom-call(f32[32,3,64,64]{3,2,1,0}, f32[32,3,3,3]{3,2,1,0}, f32[32]{0}), window={size=3x3}, dim_labels=bf01_oi01->bf01, custom_call_target=\"__cudnn$convBiasActivationForward\", backend_config={\"conv_result_scale\":1,\"activation_mode\":\"kRelu\",\"side_input_scale\":0,\"leakyrelu_alpha\":0} for eng20{k2=2,k4=1,k5=1,k6=0,k7=0} vs eng15{k5=1,k6=0,k7=1,k10=1}\n",
      "2024-07-28 07:51:11.637224: E external/local_xla/xla/service/gpu/conv_algorithm_picker.cc:270] Device: Tesla P100-PCIE-16GB\n",
      "2024-07-28 07:51:11.637253: E external/local_xla/xla/service/gpu/conv_algorithm_picker.cc:271] Platform: Compute Capability 6.0\n",
      "2024-07-28 07:51:11.637268: E external/local_xla/xla/service/gpu/conv_algorithm_picker.cc:272] Driver: 12040 (550.90.7)\n",
      "2024-07-28 07:51:11.637278: E external/local_xla/xla/service/gpu/conv_algorithm_picker.cc:273] Runtime: <undefined>\n",
      "2024-07-28 07:51:11.637298: E external/local_xla/xla/service/gpu/conv_algorithm_picker.cc:280] cudnn version: 8.9.0\n",
      "2024-07-28 07:51:11.810143: E external/local_xla/xla/service/gpu/buffer_comparator.cc:1137] Difference at 0: 6.39927, expected 5.58886\n",
      "2024-07-28 07:51:11.810200: E external/local_xla/xla/service/gpu/buffer_comparator.cc:1137] Difference at 1: 5.92185, expected 5.11143\n",
      "2024-07-28 07:51:11.810215: E external/local_xla/xla/service/gpu/buffer_comparator.cc:1137] Difference at 2: 5.99669, expected 5.18628\n",
      "2024-07-28 07:51:11.810229: E external/local_xla/xla/service/gpu/buffer_comparator.cc:1137] Difference at 3: 6.48891, expected 5.6785\n",
      "2024-07-28 07:51:11.810253: E external/local_xla/xla/service/gpu/buffer_comparator.cc:1137] Difference at 5: 6.18882, expected 5.37841\n",
      "2024-07-28 07:51:11.810264: E external/local_xla/xla/service/gpu/buffer_comparator.cc:1137] Difference at 6: 6.76108, expected 5.95067\n",
      "2024-07-28 07:51:11.810275: E external/local_xla/xla/service/gpu/buffer_comparator.cc:1137] Difference at 7: 6.21291, expected 5.4025\n",
      "2024-07-28 07:51:11.810286: E external/local_xla/xla/service/gpu/buffer_comparator.cc:1137] Difference at 8: 5.66667, expected 4.85626\n",
      "2024-07-28 07:51:11.810298: E external/local_xla/xla/service/gpu/buffer_comparator.cc:1137] Difference at 9: 6.27296, expected 5.46255\n",
      "2024-07-28 07:51:11.810311: E external/local_xla/xla/service/gpu/buffer_comparator.cc:1137] Difference at 10: 6.19325, expected 5.38284\n",
      "2024-07-28 07:51:11.811161: E external/local_xla/xla/service/gpu/conv_algorithm_picker.cc:705] Results mismatch between different convolution algorithms. This is likely a bug/unexpected loss of precision in cudnn.\n",
      "(f32[32,32,62,62]{3,2,1,0}, u8[0]{0}) custom-call(f32[32,3,64,64]{3,2,1,0}, f32[32,3,3,3]{3,2,1,0}, f32[32]{0}), window={size=3x3}, dim_labels=bf01_oi01->bf01, custom_call_target=\"__cudnn$convBiasActivationForward\", backend_config={\"conv_result_scale\":1,\"activation_mode\":\"kRelu\",\"side_input_scale\":0,\"leakyrelu_alpha\":0} for eng20{k2=2,k4=1,k5=1,k6=0,k7=0} vs eng15{k5=1,k6=0,k7=1,k10=1}\n",
      "2024-07-28 07:51:11.811192: E external/local_xla/xla/service/gpu/conv_algorithm_picker.cc:270] Device: Tesla P100-PCIE-16GB\n",
      "2024-07-28 07:51:11.811206: E external/local_xla/xla/service/gpu/conv_algorithm_picker.cc:271] Platform: Compute Capability 6.0\n",
      "2024-07-28 07:51:11.811220: E external/local_xla/xla/service/gpu/conv_algorithm_picker.cc:272] Driver: 12040 (550.90.7)\n",
      "2024-07-28 07:51:11.811240: E external/local_xla/xla/service/gpu/conv_algorithm_picker.cc:273] Runtime: <undefined>\n",
      "2024-07-28 07:51:11.811260: E external/local_xla/xla/service/gpu/conv_algorithm_picker.cc:280] cudnn version: 8.9.0\n"
     ]
    },
    {
     "name": "stdout",
     "output_type": "stream",
     "text": [
      "\u001b[1m  3/250\u001b[0m \u001b[37m━━━━━━━━━━━━━━━━━━━━\u001b[0m \u001b[1m20s\u001b[0m 85ms/step - accuracy: 0.4948 - loss: 0.9775"
     ]
    },
    {
     "name": "stderr",
     "output_type": "stream",
     "text": [
      "WARNING: All log messages before absl::InitializeLog() is called are written to STDERR\n",
      "I0000 00:00:1722153073.228217      80 device_compiler.h:186] Compiled cluster using XLA!  This line is logged at most once for the lifetime of the process.\n"
     ]
    },
    {
     "name": "stdout",
     "output_type": "stream",
     "text": [
      "\u001b[1m243/250\u001b[0m \u001b[32m━━━━━━━━━━━━━━━━━━━\u001b[0m\u001b[37m━\u001b[0m \u001b[1m1s\u001b[0m 161ms/step - accuracy: 0.5563 - loss: 0.7044"
     ]
    },
    {
     "name": "stderr",
     "output_type": "stream",
     "text": [
      "2024-07-28 07:51:59.966687: E external/local_xla/xla/service/gpu/buffer_comparator.cc:1137] Difference at 23106: 6.38351, expected 5.64383\n",
      "2024-07-28 07:51:59.966744: E external/local_xla/xla/service/gpu/buffer_comparator.cc:1137] Difference at 23194: 5.12334, expected 4.38367\n",
      "2024-07-28 07:51:59.966754: E external/local_xla/xla/service/gpu/buffer_comparator.cc:1137] Difference at 23218: 6.35016, expected 5.61048\n",
      "2024-07-28 07:51:59.966762: E external/local_xla/xla/service/gpu/buffer_comparator.cc:1137] Difference at 23240: 5.82993, expected 5.09026\n",
      "2024-07-28 07:51:59.966770: E external/local_xla/xla/service/gpu/buffer_comparator.cc:1137] Difference at 23251: 6.18931, expected 5.44964\n",
      "2024-07-28 07:51:59.966777: E external/local_xla/xla/service/gpu/buffer_comparator.cc:1137] Difference at 23270: 6.36522, expected 5.62554\n",
      "2024-07-28 07:51:59.966785: E external/local_xla/xla/service/gpu/buffer_comparator.cc:1137] Difference at 23271: 6.05405, expected 5.31438\n",
      "2024-07-28 07:51:59.966793: E external/local_xla/xla/service/gpu/buffer_comparator.cc:1137] Difference at 23287: 6.26212, expected 5.52245\n",
      "2024-07-28 07:51:59.966801: E external/local_xla/xla/service/gpu/buffer_comparator.cc:1137] Difference at 23314: 6.10609, expected 5.36642\n",
      "2024-07-28 07:51:59.966809: E external/local_xla/xla/service/gpu/buffer_comparator.cc:1137] Difference at 23331: 5.73468, expected 4.995\n",
      "2024-07-28 07:51:59.966825: E external/local_xla/xla/service/gpu/conv_algorithm_picker.cc:705] Results mismatch between different convolution algorithms. This is likely a bug/unexpected loss of precision in cudnn.\n",
      "(f32[16,32,62,62]{3,2,1,0}, u8[0]{0}) custom-call(f32[16,3,64,64]{3,2,1,0}, f32[32,3,3,3]{3,2,1,0}, f32[32]{0}), window={size=3x3}, dim_labels=bf01_oi01->bf01, custom_call_target=\"__cudnn$convBiasActivationForward\", backend_config={\"conv_result_scale\":1,\"activation_mode\":\"kRelu\",\"side_input_scale\":0,\"leakyrelu_alpha\":0} for eng20{k2=2,k4=1,k5=1,k6=0,k7=0} vs eng15{k5=1,k6=0,k7=1,k10=1}\n",
      "2024-07-28 07:51:59.966833: E external/local_xla/xla/service/gpu/conv_algorithm_picker.cc:270] Device: Tesla P100-PCIE-16GB\n",
      "2024-07-28 07:51:59.966841: E external/local_xla/xla/service/gpu/conv_algorithm_picker.cc:271] Platform: Compute Capability 6.0\n",
      "2024-07-28 07:51:59.966847: E external/local_xla/xla/service/gpu/conv_algorithm_picker.cc:272] Driver: 12040 (550.90.7)\n",
      "2024-07-28 07:51:59.966854: E external/local_xla/xla/service/gpu/conv_algorithm_picker.cc:273] Runtime: <undefined>\n",
      "2024-07-28 07:51:59.966866: E external/local_xla/xla/service/gpu/conv_algorithm_picker.cc:280] cudnn version: 8.9.0\n",
      "2024-07-28 07:52:00.008538: E external/local_xla/xla/service/gpu/buffer_comparator.cc:1137] Difference at 23106: 6.38351, expected 5.64383\n",
      "2024-07-28 07:52:00.008590: E external/local_xla/xla/service/gpu/buffer_comparator.cc:1137] Difference at 23194: 5.12334, expected 4.38367\n",
      "2024-07-28 07:52:00.008599: E external/local_xla/xla/service/gpu/buffer_comparator.cc:1137] Difference at 23218: 6.35016, expected 5.61048\n",
      "2024-07-28 07:52:00.008607: E external/local_xla/xla/service/gpu/buffer_comparator.cc:1137] Difference at 23240: 5.82993, expected 5.09026\n",
      "2024-07-28 07:52:00.008615: E external/local_xla/xla/service/gpu/buffer_comparator.cc:1137] Difference at 23251: 6.18931, expected 5.44964\n",
      "2024-07-28 07:52:00.008622: E external/local_xla/xla/service/gpu/buffer_comparator.cc:1137] Difference at 23270: 6.36522, expected 5.62554\n",
      "2024-07-28 07:52:00.008630: E external/local_xla/xla/service/gpu/buffer_comparator.cc:1137] Difference at 23271: 6.05405, expected 5.31438\n",
      "2024-07-28 07:52:00.008638: E external/local_xla/xla/service/gpu/buffer_comparator.cc:1137] Difference at 23287: 6.26212, expected 5.52245\n",
      "2024-07-28 07:52:00.008646: E external/local_xla/xla/service/gpu/buffer_comparator.cc:1137] Difference at 23314: 6.10609, expected 5.36642\n",
      "2024-07-28 07:52:00.008664: E external/local_xla/xla/service/gpu/buffer_comparator.cc:1137] Difference at 23331: 5.73468, expected 4.995\n",
      "2024-07-28 07:52:00.008680: E external/local_xla/xla/service/gpu/conv_algorithm_picker.cc:705] Results mismatch between different convolution algorithms. This is likely a bug/unexpected loss of precision in cudnn.\n",
      "(f32[16,32,62,62]{3,2,1,0}, u8[0]{0}) custom-call(f32[16,3,64,64]{3,2,1,0}, f32[32,3,3,3]{3,2,1,0}, f32[32]{0}), window={size=3x3}, dim_labels=bf01_oi01->bf01, custom_call_target=\"__cudnn$convBiasActivationForward\", backend_config={\"conv_result_scale\":1,\"activation_mode\":\"kRelu\",\"side_input_scale\":0,\"leakyrelu_alpha\":0} for eng20{k2=2,k4=1,k5=1,k6=0,k7=0} vs eng15{k5=1,k6=0,k7=1,k10=1}\n",
      "2024-07-28 07:52:00.008688: E external/local_xla/xla/service/gpu/conv_algorithm_picker.cc:270] Device: Tesla P100-PCIE-16GB\n",
      "2024-07-28 07:52:00.008696: E external/local_xla/xla/service/gpu/conv_algorithm_picker.cc:271] Platform: Compute Capability 6.0\n",
      "2024-07-28 07:52:00.008702: E external/local_xla/xla/service/gpu/conv_algorithm_picker.cc:272] Driver: 12040 (550.90.7)\n",
      "2024-07-28 07:52:00.008709: E external/local_xla/xla/service/gpu/conv_algorithm_picker.cc:273] Runtime: <undefined>\n",
      "2024-07-28 07:52:00.008720: E external/local_xla/xla/service/gpu/conv_algorithm_picker.cc:280] cudnn version: 8.9.0\n"
     ]
    },
    {
     "name": "stdout",
     "output_type": "stream",
     "text": [
      "\u001b[1m250/250\u001b[0m \u001b[32m━━━━━━━━━━━━━━━━━━━━\u001b[0m\u001b[37m\u001b[0m \u001b[1m52s\u001b[0m 189ms/step - accuracy: 0.5575 - loss: 0.7032 - val_accuracy: 0.5940 - val_loss: 0.7075\n",
      "Epoch 2/50\n",
      "\u001b[1m250/250\u001b[0m \u001b[32m━━━━━━━━━━━━━━━━━━━━\u001b[0m\u001b[37m\u001b[0m \u001b[1m28s\u001b[0m 108ms/step - accuracy: 0.6480 - loss: 0.6198 - val_accuracy: 0.6615 - val_loss: 0.6100\n",
      "Epoch 3/50\n",
      "\u001b[1m250/250\u001b[0m \u001b[32m━━━━━━━━━━━━━━━━━━━━\u001b[0m\u001b[37m\u001b[0m \u001b[1m27s\u001b[0m 107ms/step - accuracy: 0.7039 - loss: 0.5704 - val_accuracy: 0.7200 - val_loss: 0.5532\n",
      "Epoch 4/50\n",
      "\u001b[1m250/250\u001b[0m \u001b[32m━━━━━━━━━━━━━━━━━━━━\u001b[0m\u001b[37m\u001b[0m \u001b[1m28s\u001b[0m 107ms/step - accuracy: 0.7240 - loss: 0.5406 - val_accuracy: 0.7335 - val_loss: 0.5515\n",
      "Epoch 5/50\n",
      "\u001b[1m250/250\u001b[0m \u001b[32m━━━━━━━━━━━━━━━━━━━━\u001b[0m\u001b[37m\u001b[0m \u001b[1m28s\u001b[0m 111ms/step - accuracy: 0.7422 - loss: 0.5201 - val_accuracy: 0.7505 - val_loss: 0.5182\n",
      "Epoch 6/50\n",
      "\u001b[1m250/250\u001b[0m \u001b[32m━━━━━━━━━━━━━━━━━━━━\u001b[0m\u001b[37m\u001b[0m \u001b[1m27s\u001b[0m 106ms/step - accuracy: 0.7535 - loss: 0.5014 - val_accuracy: 0.7405 - val_loss: 0.5360\n",
      "Epoch 7/50\n",
      "\u001b[1m250/250\u001b[0m \u001b[32m━━━━━━━━━━━━━━━━━━━━\u001b[0m\u001b[37m\u001b[0m \u001b[1m29s\u001b[0m 113ms/step - accuracy: 0.7723 - loss: 0.4817 - val_accuracy: 0.7530 - val_loss: 0.5243\n",
      "Epoch 8/50\n",
      "\u001b[1m250/250\u001b[0m \u001b[32m━━━━━━━━━━━━━━━━━━━━\u001b[0m\u001b[37m\u001b[0m \u001b[1m28s\u001b[0m 109ms/step - accuracy: 0.7802 - loss: 0.4588 - val_accuracy: 0.7790 - val_loss: 0.4908\n",
      "Epoch 9/50\n",
      "\u001b[1m250/250\u001b[0m \u001b[32m━━━━━━━━━━━━━━━━━━━━\u001b[0m\u001b[37m\u001b[0m \u001b[1m28s\u001b[0m 109ms/step - accuracy: 0.7746 - loss: 0.4603 - val_accuracy: 0.7765 - val_loss: 0.4936\n",
      "Epoch 10/50\n",
      "\u001b[1m250/250\u001b[0m \u001b[32m━━━━━━━━━━━━━━━━━━━━\u001b[0m\u001b[37m\u001b[0m \u001b[1m27s\u001b[0m 106ms/step - accuracy: 0.7827 - loss: 0.4496 - val_accuracy: 0.7720 - val_loss: 0.5128\n",
      "Epoch 11/50\n",
      "\u001b[1m250/250\u001b[0m \u001b[32m━━━━━━━━━━━━━━━━━━━━\u001b[0m\u001b[37m\u001b[0m \u001b[1m28s\u001b[0m 108ms/step - accuracy: 0.7955 - loss: 0.4283 - val_accuracy: 0.7710 - val_loss: 0.5021\n",
      "Epoch 12/50\n",
      "\u001b[1m250/250\u001b[0m \u001b[32m━━━━━━━━━━━━━━━━━━━━\u001b[0m\u001b[37m\u001b[0m \u001b[1m41s\u001b[0m 107ms/step - accuracy: 0.8071 - loss: 0.4188 - val_accuracy: 0.7800 - val_loss: 0.5005\n",
      "Epoch 13/50\n",
      "\u001b[1m250/250\u001b[0m \u001b[32m━━━━━━━━━━━━━━━━━━━━\u001b[0m\u001b[37m\u001b[0m \u001b[1m28s\u001b[0m 109ms/step - accuracy: 0.8127 - loss: 0.3984 - val_accuracy: 0.7945 - val_loss: 0.4851\n",
      "Epoch 14/50\n",
      "\u001b[1m250/250\u001b[0m \u001b[32m━━━━━━━━━━━━━━━━━━━━\u001b[0m\u001b[37m\u001b[0m \u001b[1m27s\u001b[0m 105ms/step - accuracy: 0.8237 - loss: 0.3866 - val_accuracy: 0.7755 - val_loss: 0.5020\n",
      "Epoch 15/50\n",
      "\u001b[1m250/250\u001b[0m \u001b[32m━━━━━━━━━━━━━━━━━━━━\u001b[0m\u001b[37m\u001b[0m \u001b[1m27s\u001b[0m 107ms/step - accuracy: 0.8229 - loss: 0.3898 - val_accuracy: 0.7825 - val_loss: 0.5094\n",
      "Epoch 16/50\n",
      "\u001b[1m250/250\u001b[0m \u001b[32m━━━━━━━━━━━━━━━━━━━━\u001b[0m\u001b[37m\u001b[0m \u001b[1m27s\u001b[0m 107ms/step - accuracy: 0.8265 - loss: 0.3790 - val_accuracy: 0.7860 - val_loss: 0.5039\n",
      "Epoch 17/50\n",
      "\u001b[1m250/250\u001b[0m \u001b[32m━━━━━━━━━━━━━━━━━━━━\u001b[0m\u001b[37m\u001b[0m \u001b[1m28s\u001b[0m 110ms/step - accuracy: 0.8415 - loss: 0.3529 - val_accuracy: 0.7845 - val_loss: 0.5114\n",
      "Epoch 18/50\n",
      "\u001b[1m250/250\u001b[0m \u001b[32m━━━━━━━━━━━━━━━━━━━━\u001b[0m\u001b[37m\u001b[0m \u001b[1m28s\u001b[0m 108ms/step - accuracy: 0.8447 - loss: 0.3508 - val_accuracy: 0.7840 - val_loss: 0.5060\n",
      "Epoch 19/50\n",
      "\u001b[1m250/250\u001b[0m \u001b[32m━━━━━━━━━━━━━━━━━━━━\u001b[0m\u001b[37m\u001b[0m \u001b[1m28s\u001b[0m 109ms/step - accuracy: 0.8607 - loss: 0.3208 - val_accuracy: 0.7900 - val_loss: 0.5487\n",
      "Epoch 20/50\n",
      "\u001b[1m250/250\u001b[0m \u001b[32m━━━━━━━━━━━━━━━━━━━━\u001b[0m\u001b[37m\u001b[0m \u001b[1m40s\u001b[0m 155ms/step - accuracy: 0.8711 - loss: 0.3126 - val_accuracy: 0.7760 - val_loss: 0.5507\n",
      "Epoch 21/50\n",
      "\u001b[1m250/250\u001b[0m \u001b[32m━━━━━━━━━━━━━━━━━━━━\u001b[0m\u001b[37m\u001b[0m \u001b[1m46s\u001b[0m 181ms/step - accuracy: 0.8634 - loss: 0.3108 - val_accuracy: 0.7630 - val_loss: 0.5786\n",
      "Epoch 22/50\n",
      "\u001b[1m250/250\u001b[0m \u001b[32m━━━━━━━━━━━━━━━━━━━━\u001b[0m\u001b[37m\u001b[0m \u001b[1m37s\u001b[0m 139ms/step - accuracy: 0.8684 - loss: 0.2999 - val_accuracy: 0.7670 - val_loss: 0.6191\n",
      "Epoch 23/50\n",
      "\u001b[1m250/250\u001b[0m \u001b[32m━━━━━━━━━━━━━━━━━━━━\u001b[0m\u001b[37m\u001b[0m \u001b[1m38s\u001b[0m 149ms/step - accuracy: 0.8806 - loss: 0.2820 - val_accuracy: 0.7885 - val_loss: 0.5603\n",
      "Epoch 24/50\n",
      "\u001b[1m250/250\u001b[0m \u001b[32m━━━━━━━━━━━━━━━━━━━━\u001b[0m\u001b[37m\u001b[0m \u001b[1m37s\u001b[0m 144ms/step - accuracy: 0.8719 - loss: 0.2970 - val_accuracy: 0.7700 - val_loss: 0.6221\n",
      "Epoch 25/50\n",
      "\u001b[1m250/250\u001b[0m \u001b[32m━━━━━━━━━━━━━━━━━━━━\u001b[0m\u001b[37m\u001b[0m \u001b[1m36s\u001b[0m 141ms/step - accuracy: 0.8860 - loss: 0.2701 - val_accuracy: 0.7645 - val_loss: 0.6214\n",
      "Epoch 26/50\n",
      "\u001b[1m250/250\u001b[0m \u001b[32m━━━━━━━━━━━━━━━━━━━━\u001b[0m\u001b[37m\u001b[0m \u001b[1m37s\u001b[0m 145ms/step - accuracy: 0.8923 - loss: 0.2586 - val_accuracy: 0.7865 - val_loss: 0.6405\n",
      "Epoch 27/50\n",
      "\u001b[1m250/250\u001b[0m \u001b[32m━━━━━━━━━━━━━━━━━━━━\u001b[0m\u001b[37m\u001b[0m \u001b[1m44s\u001b[0m 172ms/step - accuracy: 0.8955 - loss: 0.2457 - val_accuracy: 0.7840 - val_loss: 0.5636\n",
      "Epoch 28/50\n",
      "\u001b[1m250/250\u001b[0m \u001b[32m━━━━━━━━━━━━━━━━━━━━\u001b[0m\u001b[37m\u001b[0m \u001b[1m31s\u001b[0m 122ms/step - accuracy: 0.9038 - loss: 0.2312 - val_accuracy: 0.7820 - val_loss: 0.6396\n",
      "Epoch 29/50\n",
      "\u001b[1m250/250\u001b[0m \u001b[32m━━━━━━━━━━━━━━━━━━━━\u001b[0m\u001b[37m\u001b[0m \u001b[1m28s\u001b[0m 109ms/step - accuracy: 0.9003 - loss: 0.2356 - val_accuracy: 0.7950 - val_loss: 0.5884\n",
      "Epoch 30/50\n",
      "\u001b[1m250/250\u001b[0m \u001b[32m━━━━━━━━━━━━━━━━━━━━\u001b[0m\u001b[37m\u001b[0m \u001b[1m27s\u001b[0m 106ms/step - accuracy: 0.9149 - loss: 0.2186 - val_accuracy: 0.7875 - val_loss: 0.7087\n",
      "Epoch 31/50\n",
      "\u001b[1m250/250\u001b[0m \u001b[32m━━━━━━━━━━━━━━━━━━━━\u001b[0m\u001b[37m\u001b[0m \u001b[1m28s\u001b[0m 109ms/step - accuracy: 0.9036 - loss: 0.2348 - val_accuracy: 0.7815 - val_loss: 0.7269\n",
      "Epoch 32/50\n",
      "\u001b[1m250/250\u001b[0m \u001b[32m━━━━━━━━━━━━━━━━━━━━\u001b[0m\u001b[37m\u001b[0m \u001b[1m28s\u001b[0m 109ms/step - accuracy: 0.9144 - loss: 0.2165 - val_accuracy: 0.7865 - val_loss: 0.6700\n",
      "Epoch 33/50\n",
      "\u001b[1m250/250\u001b[0m \u001b[32m━━━━━━━━━━━━━━━━━━━━\u001b[0m\u001b[37m\u001b[0m \u001b[1m31s\u001b[0m 122ms/step - accuracy: 0.9205 - loss: 0.2039 - val_accuracy: 0.7790 - val_loss: 0.7728\n",
      "Epoch 34/50\n",
      "\u001b[1m250/250\u001b[0m \u001b[32m━━━━━━━━━━━━━━━━━━━━\u001b[0m\u001b[37m\u001b[0m \u001b[1m39s\u001b[0m 114ms/step - accuracy: 0.9211 - loss: 0.1911 - val_accuracy: 0.7855 - val_loss: 0.6496\n",
      "Epoch 35/50\n",
      "\u001b[1m250/250\u001b[0m \u001b[32m━━━━━━━━━━━━━━━━━━━━\u001b[0m\u001b[37m\u001b[0m \u001b[1m28s\u001b[0m 109ms/step - accuracy: 0.9194 - loss: 0.1924 - val_accuracy: 0.7785 - val_loss: 0.6315\n",
      "Epoch 36/50\n",
      "\u001b[1m250/250\u001b[0m \u001b[32m━━━━━━━━━━━━━━━━━━━━\u001b[0m\u001b[37m\u001b[0m \u001b[1m29s\u001b[0m 113ms/step - accuracy: 0.9204 - loss: 0.1937 - val_accuracy: 0.7675 - val_loss: 0.8211\n",
      "Epoch 37/50\n",
      "\u001b[1m250/250\u001b[0m \u001b[32m━━━━━━━━━━━━━━━━━━━━\u001b[0m\u001b[37m\u001b[0m \u001b[1m29s\u001b[0m 112ms/step - accuracy: 0.9324 - loss: 0.1745 - val_accuracy: 0.7800 - val_loss: 0.8673\n",
      "Epoch 38/50\n",
      "\u001b[1m250/250\u001b[0m \u001b[32m━━━━━━━━━━━━━━━━━━━━\u001b[0m\u001b[37m\u001b[0m \u001b[1m29s\u001b[0m 113ms/step - accuracy: 0.9369 - loss: 0.1588 - val_accuracy: 0.7840 - val_loss: 0.7244\n",
      "Epoch 39/50\n",
      "\u001b[1m250/250\u001b[0m \u001b[32m━━━━━━━━━━━━━━━━━━━━\u001b[0m\u001b[37m\u001b[0m \u001b[1m28s\u001b[0m 111ms/step - accuracy: 0.9402 - loss: 0.1567 - val_accuracy: 0.7950 - val_loss: 0.7386\n",
      "Epoch 40/50\n",
      "\u001b[1m250/250\u001b[0m \u001b[32m━━━━━━━━━━━━━━━━━━━━\u001b[0m\u001b[37m\u001b[0m \u001b[1m27s\u001b[0m 107ms/step - accuracy: 0.9392 - loss: 0.1633 - val_accuracy: 0.7825 - val_loss: 0.8240\n",
      "Epoch 41/50\n",
      "\u001b[1m250/250\u001b[0m \u001b[32m━━━━━━━━━━━━━━━━━━━━\u001b[0m\u001b[37m\u001b[0m \u001b[1m28s\u001b[0m 108ms/step - accuracy: 0.9330 - loss: 0.1631 - val_accuracy: 0.7860 - val_loss: 0.8064\n",
      "Epoch 42/50\n",
      "\u001b[1m250/250\u001b[0m \u001b[32m━━━━━━━━━━━━━━━━━━━━\u001b[0m\u001b[37m\u001b[0m \u001b[1m27s\u001b[0m 105ms/step - accuracy: 0.9465 - loss: 0.1354 - val_accuracy: 0.7705 - val_loss: 0.7274\n",
      "Epoch 43/50\n",
      "\u001b[1m250/250\u001b[0m \u001b[32m━━━━━━━━━━━━━━━━━━━━\u001b[0m\u001b[37m\u001b[0m \u001b[1m27s\u001b[0m 107ms/step - accuracy: 0.9388 - loss: 0.1577 - val_accuracy: 0.7785 - val_loss: 0.7972\n",
      "Epoch 44/50\n",
      "\u001b[1m250/250\u001b[0m \u001b[32m━━━━━━━━━━━━━━━━━━━━\u001b[0m\u001b[37m\u001b[0m \u001b[1m28s\u001b[0m 110ms/step - accuracy: 0.9380 - loss: 0.1610 - val_accuracy: 0.7920 - val_loss: 0.9024\n",
      "Epoch 45/50\n",
      "\u001b[1m250/250\u001b[0m \u001b[32m━━━━━━━━━━━━━━━━━━━━\u001b[0m\u001b[37m\u001b[0m \u001b[1m27s\u001b[0m 107ms/step - accuracy: 0.9417 - loss: 0.1466 - val_accuracy: 0.7840 - val_loss: 0.8283\n",
      "Epoch 46/50\n",
      "\u001b[1m250/250\u001b[0m \u001b[32m━━━━━━━━━━━━━━━━━━━━\u001b[0m\u001b[37m\u001b[0m \u001b[1m41s\u001b[0m 106ms/step - accuracy: 0.9435 - loss: 0.1532 - val_accuracy: 0.7835 - val_loss: 0.8140\n",
      "Epoch 47/50\n",
      "\u001b[1m250/250\u001b[0m \u001b[32m━━━━━━━━━━━━━━━━━━━━\u001b[0m\u001b[37m\u001b[0m \u001b[1m28s\u001b[0m 110ms/step - accuracy: 0.9450 - loss: 0.1518 - val_accuracy: 0.7890 - val_loss: 0.8356\n",
      "Epoch 48/50\n",
      "\u001b[1m250/250\u001b[0m \u001b[32m━━━━━━━━━━━━━━━━━━━━\u001b[0m\u001b[37m\u001b[0m \u001b[1m28s\u001b[0m 109ms/step - accuracy: 0.9540 - loss: 0.1212 - val_accuracy: 0.7855 - val_loss: 0.8239\n",
      "Epoch 49/50\n",
      "\u001b[1m250/250\u001b[0m \u001b[32m━━━━━━━━━━━━━━━━━━━━\u001b[0m\u001b[37m\u001b[0m \u001b[1m28s\u001b[0m 110ms/step - accuracy: 0.9547 - loss: 0.1201 - val_accuracy: 0.7970 - val_loss: 0.8161\n",
      "Epoch 50/50\n",
      "\u001b[1m250/250\u001b[0m \u001b[32m━━━━━━━━━━━━━━━━━━━━\u001b[0m\u001b[37m\u001b[0m \u001b[1m28s\u001b[0m 108ms/step - accuracy: 0.9487 - loss: 0.1280 - val_accuracy: 0.7960 - val_loss: 0.7628\n"
     ]
    }
   ],
   "source": [
    "# Check if weights file exists, if not, train and save weights\n",
    "if not os.path.exists(weights_path):\n",
    "    # Training the CNN and saving history\n",
    "    history = cnn.fit(x=training_set, validation_data=test_set, epochs=50)\n",
    "    # Save weights after training\n",
    "    cnn.save_weights(weights_path)  # Corrected line\n",
    "else:\n",
    "    # Load weights if they exist\n",
    "    cnn.load_weights(weights_path)"
   ]
  },
  {
   "cell_type": "code",
   "execution_count": 7,
   "id": "3321ad4a",
   "metadata": {
    "execution": {
     "iopub.execute_input": "2024-07-28T08:17:00.861434Z",
     "iopub.status.busy": "2024-07-28T08:17:00.861081Z",
     "iopub.status.idle": "2024-07-28T08:17:01.178602Z",
     "shell.execute_reply": "2024-07-28T08:17:01.177719Z"
    },
    "papermill": {
     "duration": 1.322994,
     "end_time": "2024-07-28T08:17:01.180958",
     "exception": false,
     "start_time": "2024-07-28T08:16:59.857964",
     "status": "completed"
    },
    "tags": []
   },
   "outputs": [
    {
     "data": {
      "image/png": "[encoded data removed]",
      "text/plain": [
       "<Figure size 800x600 with 1 Axes>"
      ]
     },
     "metadata": {},
     "output_type": "display_data"
    }
   ],
   "source": [
    "if 'history' in locals():\n",
    "    plt.figure(figsize=(8, 6))\n",
    "    plt.plot(history.history['accuracy'], label='Training Accuracy')\n",
    "    plt.plot(history.history['val_accuracy'], label='Validation Accuracy')\n",
    "    plt.title('Model Accuracy')\n",
    "    plt.ylabel('Accuracy')\n",
    "    plt.xlabel('Epoch')\n",
    "    plt.legend(loc='upper left')\n",
    "    plt.show()"
   ]
  },
  {
   "cell_type": "code",
   "execution_count": 8,
   "id": "7ec24e7a",
   "metadata": {
    "execution": {
     "iopub.execute_input": "2024-07-28T08:17:03.219732Z",
     "iopub.status.busy": "2024-07-28T08:17:03.218908Z",
     "iopub.status.idle": "2024-07-28T08:17:03.225232Z",
     "shell.execute_reply": "2024-07-28T08:17:03.224475Z"
    },
    "papermill": {
     "duration": 1.053082,
     "end_time": "2024-07-28T08:17:03.227093",
     "exception": false,
     "start_time": "2024-07-28T08:17:02.174011",
     "status": "completed"
    },
    "tags": []
   },
   "outputs": [],
   "source": [
    "test_image_dir = '/kaggle/input/cat-vs-dog-image-classification-making-prediction/dataset/test_set'\n",
    "categories = os.listdir(test_image_dir)\n",
    "selected_category = random.choice(categories)\n",
    "selected_image = random.choice(os.listdir(os.path.join(test_image_dir, selected_category)))\n",
    "selected_image_path = os.path.join(test_image_dir, selected_category, selected_image)"
   ]
  },
  {
   "cell_type": "code",
   "execution_count": 9,
   "id": "31eaadda",
   "metadata": {
    "execution": {
     "iopub.execute_input": "2024-07-28T08:17:05.284002Z",
     "iopub.status.busy": "2024-07-28T08:17:05.283219Z",
     "iopub.status.idle": "2024-07-28T08:17:05.289744Z",
     "shell.execute_reply": "2024-07-28T08:17:05.289041Z"
    },
    "papermill": {
     "duration": 1.057473,
     "end_time": "2024-07-28T08:17:05.291606",
     "exception": false,
     "start_time": "2024-07-28T08:17:04.234133",
     "status": "completed"
    },
    "tags": []
   },
   "outputs": [],
   "source": [
    "test_image = image.load_img(selected_image_path, target_size=(64, 64))\n",
    "test_image_array = image.img_to_array(test_image)\n",
    "test_image_array = np.expand_dims(test_image_array, axis=0)\n",
    "test_image_array /= 255.0"
   ]
  },
  {
   "cell_type": "code",
   "execution_count": 10,
   "id": "4ecdb34f",
   "metadata": {
    "execution": {
     "iopub.execute_input": "2024-07-28T08:17:07.350347Z",
     "iopub.status.busy": "2024-07-28T08:17:07.349711Z",
     "iopub.status.idle": "2024-07-28T08:17:07.809446Z",
     "shell.execute_reply": "2024-07-28T08:17:07.808702Z"
    },
    "papermill": {
     "duration": 1.523861,
     "end_time": "2024-07-28T08:17:07.811296",
     "exception": false,
     "start_time": "2024-07-28T08:17:06.287435",
     "status": "completed"
    },
    "tags": []
   },
   "outputs": [
    {
     "name": "stdout",
     "output_type": "stream",
     "text": [
      "\u001b[1m1/1\u001b[0m \u001b[32m━━━━━━━━━━━━━━━━━━━━\u001b[0m\u001b[37m\u001b[0m \u001b[1m0s\u001b[0m 405ms/step\n"
     ]
    }
   ],
   "source": [
    "result = cnn.predict(test_image_array)\n",
    "confidence = result[0][0]"
   ]
  },
  {
   "cell_type": "code",
   "execution_count": 11,
   "id": "f030e5fa",
   "metadata": {
    "execution": {
     "iopub.execute_input": "2024-07-28T08:17:09.849244Z",
     "iopub.status.busy": "2024-07-28T08:17:09.848899Z",
     "iopub.status.idle": "2024-07-28T08:17:09.853683Z",
     "shell.execute_reply": "2024-07-28T08:17:09.852824Z"
    },
    "papermill": {
     "duration": 1.052391,
     "end_time": "2024-07-28T08:17:09.855494",
     "exception": false,
     "start_time": "2024-07-28T08:17:08.803103",
     "status": "completed"
    },
    "tags": []
   },
   "outputs": [],
   "source": [
    "if confidence > 0.5:\n",
    "    prediction = 'dog'\n",
    "    confidence_percentage = confidence * 100\n",
    "else:\n",
    "    prediction = 'cat'\n",
    "    confidence_percentage = (1 - confidence) * 100"
   ]
  },
  {
   "cell_type": "code",
   "execution_count": 12,
   "id": "4269a169",
   "metadata": {
    "execution": {
     "iopub.execute_input": "2024-07-28T08:17:11.917152Z",
     "iopub.status.busy": "2024-07-28T08:17:11.916803Z",
     "iopub.status.idle": "2024-07-28T08:17:12.176311Z",
     "shell.execute_reply": "2024-07-28T08:17:12.175430Z"
    },
    "papermill": {
     "duration": 1.331467,
     "end_time": "2024-07-28T08:17:12.178237",
     "exception": false,
     "start_time": "2024-07-28T08:17:10.846770",
     "status": "completed"
    },
    "tags": []
   },
   "outputs": [
    {
     "data": {
      "image/png": "[encoded data removed]",
      "text/plain": [
       "<Figure size 640x480 with 1 Axes>"
      ]
     },
     "metadata": {},
     "output_type": "display_data"
    }
   ],
   "source": [
    "plt.imshow(test_image)\n",
    "plt.title(f'Prediction: {prediction} ({confidence_percentage:.2f}%)')\n",
    "plt.axis('on')\n",
    "plt.show()"
   ]
  }
 ],
 "metadata": {
  "kaggle": {
   "accelerator": "gpu",
   "dataSources": [
    {
     "datasetId": 4525768,
     "sourceId": 7742766,
     "sourceType": "datasetVersion"
    }
   ],
   "dockerImageVersionId": 30747,
   "isGpuEnabled": true,
   "isInternetEnabled": true,
   "language": "python",
   "sourceType": "notebook"
  },
  "kernelspec": {
   "display_name": "Python 3",
   "language": "python",
   "name": "python3"
  },
  "language_info": {
   "codemirror_mode": {
    "name": "ipython",
    "version": 3
   },
   "file_extension": ".py",
   "mimetype": "text/x-python",
   "name": "python",
   "nbconvert_exporter": "python",
   "pygments_lexer": "ipython3",
   "version": "3.10.13"
  },
  "papermill": {
   "default_parameters": {},
   "duration": 1586.959109,
   "end_time": "2024-07-28T08:17:15.006418",
   "environment_variables": {},
   "exception": null,
   "input_path": "__notebook__.ipynb",
   "output_path": "__notebook__.ipynb",
   "parameters": {},
   "start_time": "2024-07-28T07:50:48.047309",
   "version": "2.5.0"
  }
 },
 "nbformat": 4,
 "nbformat_minor": 5
}
